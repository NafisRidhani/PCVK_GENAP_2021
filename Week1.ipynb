{
  "nbformat": 4,
  "nbformat_minor": 0,
  "metadata": {
    "colab": {
      "name": "Week1.ipynb",
      "provenance": [],
      "authorship_tag": "ABX9TyN5YOLKZVHFPvbzFnxWupNu",
      "include_colab_link": true
    },
    "kernelspec": {
      "name": "python3",
      "display_name": "Python 3"
    }
  },
  "cells": [
    {
      "cell_type": "markdown",
      "metadata": {
        "id": "view-in-github",
        "colab_type": "text"
      },
      "source": [
        "<a href=\"https://colab.research.google.com/github/NafisRidhani/PCVK_GENAP_2021/blob/main/Week1.ipynb\" target=\"_parent\"><img src=\"https://colab.research.google.com/assets/colab-badge.svg\" alt=\"Open In Colab\"/></a>"
      ]
    },
    {
      "cell_type": "code",
      "metadata": {
        "id": "zK8bxRlTIVL8"
      },
      "source": [
        "import numpy as np\r\n",
        "import pandas as pd\r\n",
        "import cv2 as cv\r\n",
        "from google.colab.patches import cv2_imshow #for image display\r\n",
        "from skimage import io\r\n",
        "from skimage import transform\r\n",
        "from PIL import Image\r\n",
        "import matplotlib.pylab as plt"
      ],
      "execution_count": null,
      "outputs": []
    },
    {
      "cell_type": "code",
      "metadata": {
        "id": "WVSiOo5CJ22j"
      },
      "source": [
        "# Membuat list untuk menyimpan url dari beberapa image\r\n",
        "urls = [\"https://iiif.lib.ncsu.edu/iiif/0052574/full/800,/0/default.jpg\",\r\n",
        "        \"https://iiif.lib.ncsu.edu/iiif/0016007/full/800,/0/default.jpg\",\r\n",
        "        \"https://placekitten.com/800/571\"]\r\n",
        "\r\n",
        "# baca dan tampilkan image\r\n",
        "# loop pada tiap url image, beberapa image dapat disimpan pada list\r\n",
        "for url in urls:\r\n",
        "  image = io.imread(url)                          #read image\r\n",
        "  image = cv.resize(image, (0,0), fx=0.5, fy=0.5) #resize image to half size\r\n",
        "  image_2 = cv.cvtColor(image, cv.COLOR_BGR2RGB)  #convert color to RGB\r\n",
        "  final_frame = cv.hconcat((image, image_2))      #concatenate image\r\n",
        "  cv2_imshow(final_frame)                         #show image\r\n",
        "  print('\\n')\r\n"
      ],
      "execution_count": null,
      "outputs": []
    }
  ]
}